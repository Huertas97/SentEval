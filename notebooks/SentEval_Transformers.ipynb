{
  "nbformat": 4,
  "nbformat_minor": 0,
  "metadata": {
    "colab": {
      "name": "SentEval_Transformers.ipynb",
      "provenance": [],
      "collapsed_sections": [],
      "toc_visible": true,
      "authorship_tag": "ABX9TyORqSSIABEto8uGj38UwAXZ",
      "include_colab_link": true
    },
    "kernelspec": {
      "name": "python3",
      "display_name": "Python 3"
    },
    "accelerator": "GPU"
  },
  "cells": [
    {
      "cell_type": "markdown",
      "metadata": {
        "id": "view-in-github",
        "colab_type": "text"
      },
      "source": [
        "<a href=\"https://colab.research.google.com/github/Huertas97/SentEval/blob/master/notebooks/SentEval_Transformers.ipynb\" target=\"_parent\"><img src=\"https://colab.research.google.com/assets/colab-badge.svg\" alt=\"Open In Colab\"/></a>"
      ]
    },
    {
      "cell_type": "markdown",
      "metadata": {
        "id": "TmKoyE6QS9A0"
      },
      "source": [
        "In this notebook we are going to evaluate Transformers models over SentEval. The purpose of this notebook is to obtain evaluation scores which could help us to determine how sentence transformers perform in comparison with well-known Transformer-based models such as BERT or RoBERTa. \n",
        "\n",
        "Addiotionaly, we will analyze the perform of Transformer-based models trained with scientific literature: \n",
        "\n",
        "* clinicalcovid-bert-nli\n",
        "\n",
        "* scibert-nli\n",
        "\n",
        "* biobert-nli"
      ]
    },
    {
      "cell_type": "code",
      "metadata": {
        "id": "UQLzBXhpVJGe"
      },
      "source": [
        "!pip install -U -q sentence_transformers"
      ],
      "execution_count": null,
      "outputs": []
    },
    {
      "cell_type": "markdown",
      "metadata": {
        "id": "T0vQ-_-fUxaL"
      },
      "source": [
        "# Clone the SentEval repository"
      ]
    },
    {
      "cell_type": "code",
      "metadata": {
        "id": "O4dPBSvDS79t"
      },
      "source": [
        "# Clone the forked repository and all the dependencies\n",
        "!git clone https://github.com/Huertas97/SentEval.git\n",
        "\n",
        "# Download the data\n",
        "%cd /content/SentEval/data/downstream\n",
        "!bash ./get_transfer_data.bash"
      ],
      "execution_count": null,
      "outputs": []
    },
    {
      "cell_type": "markdown",
      "metadata": {
        "id": "HllxltYIVRrv"
      },
      "source": [
        "Now upload the `\"transformer_model.py\"` into `SentEval/examples`"
      ]
    },
    {
      "cell_type": "markdown",
      "metadata": {
        "id": "nKwWMuNAVBUd"
      },
      "source": [
        "# BERT: bert-base-uncased"
      ]
    },
    {
      "cell_type": "code",
      "metadata": {
        "id": "feILp6lGVEoj"
      },
      "source": [
        "%cd\n",
        "%cd /content/SentEval/examples\n",
        "!python transformer_models.py --model bert-base-uncased --output bert_model"
      ],
      "execution_count": null,
      "outputs": []
    },
    {
      "cell_type": "markdown",
      "metadata": {
        "id": "Pa5fxAQlbMIi"
      },
      "source": [
        "# RoBERTa"
      ]
    },
    {
      "cell_type": "code",
      "metadata": {
        "id": "j3t-KTGKbNsX"
      },
      "source": [
        "%cd\n",
        "%cd /content/SentEval/examples\n",
        "!python transformer_models.py --model roberta-base --output roberta_base"
      ],
      "execution_count": null,
      "outputs": []
    },
    {
      "cell_type": "markdown",
      "metadata": {
        "id": "Zmb57W7lb8kp"
      },
      "source": [
        "# biobert-nli"
      ]
    },
    {
      "cell_type": "code",
      "metadata": {
        "id": "Ru5aKnAdbT2D"
      },
      "source": [
        "%cd\n",
        "%cd /content/SentEval/examples\n",
        "!python transformer_models.py --model gsarti/biobert-nli --output biobert-nli"
      ],
      "execution_count": null,
      "outputs": []
    },
    {
      "cell_type": "markdown",
      "metadata": {
        "id": "CwplgFiebvVL"
      },
      "source": [
        "# scibert-nli"
      ]
    },
    {
      "cell_type": "code",
      "metadata": {
        "id": "tQ5coEGbb5HV"
      },
      "source": [
        "%cd\n",
        "%cd /content/SentEval/examples\n",
        "!python transformer_models.py --model gsarti/scibert-nli --output scibert-nli"
      ],
      "execution_count": null,
      "outputs": []
    },
    {
      "cell_type": "markdown",
      "metadata": {
        "id": "DQ5vOFYQcWqn"
      },
      "source": [
        "# Clinicalcovid-bert-nli"
      ]
    },
    {
      "cell_type": "code",
      "metadata": {
        "id": "370di2lScs-D"
      },
      "source": [
        "%cd\n",
        "%cd /content/SentEval/examples\n",
        "!python transformer_models.py --model manueltonneau/clinicalcovid-bert-nli --output clinicalcovid-bert-nli"
      ],
      "execution_count": null,
      "outputs": []
    }
  ]
}