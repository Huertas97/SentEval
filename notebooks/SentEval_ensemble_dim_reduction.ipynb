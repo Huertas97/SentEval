{
  "nbformat": 4,
  "nbformat_minor": 0,
  "metadata": {
    "colab": {
      "name": "SentEval_ensemble_dim_reduction.ipynb",
      "provenance": [],
      "collapsed_sections": [],
      "authorship_tag": "ABX9TyMqGx1c3qajKMl4NHLhcyoq",
      "include_colab_link": true
    },
    "kernelspec": {
      "name": "python3",
      "display_name": "Python 3"
    },
    "accelerator": "GPU"
  },
  "cells": [
    {
      "cell_type": "markdown",
      "metadata": {
        "id": "view-in-github",
        "colab_type": "text"
      },
      "source": [
        "<a href=\"https://colab.research.google.com/github/Huertas97/SentEval/blob/master/notebooks/SentEval_ensemble_dim_reduction.ipynb\" target=\"_parent\"><img src=\"https://colab.research.google.com/assets/colab-badge.svg\" alt=\"Open In Colab\"/></a>"
      ]
    },
    {
      "cell_type": "markdown",
      "metadata": {
        "id": "y1pQxSEak8sM"
      },
      "source": [
        "<font color=\"orange\" size=6>Information</font>\n",
        "\n",
        "We are going to evaluate the ensemble of the multilinguals Sentence Transformer  models without dimensional reduction over the different task of SentEval dataset (https://github.com/facebookresearch/SentEval). \n",
        "\n",
        "\n",
        "\n",
        "<font color=\"orange\">We are gonna evaluate the following models on SentEval: </font>.\n",
        "\n",
        "1. Each model separately with the respective PCA\n",
        "  * distiluse-base-multilingual-cased\n",
        "  * xlm-r-distilroberta-base-paraphrase-v1\n",
        "  * xlm-r-bert-base-nli-stsb-mean-tokens\n",
        "  * LaBSE\n",
        "  * distilbert-multilingual-nli-stsb-quora-ranking\n",
        "\n",
        "2. Best ensemble combination of models with PCA over STS benchmark 2017 Multilingual\n",
        "\n",
        "  * Ensemble of 5 models (each one with its respective PCA) \n",
        "\n",
        "3.  Ensemble combination of models with PCA with best ratio result / nº dim over STS benchmark 2017 Multilingual\n",
        "\n",
        "  * Combination of 2 models with its respective PCA:  xlm-r-bert-base-nli-stsb-mean-tokens, xlm-r-distilroberta-base-paraphrase-v1\n",
        "\n"
      ]
    },
    {
      "cell_type": "code",
      "metadata": {
        "id": "Vg3wFs_2k9Uh"
      },
      "source": [
        "!pip install -U -q sentence_transformers"
      ],
      "execution_count": null,
      "outputs": []
    },
    {
      "cell_type": "markdown",
      "metadata": {
        "id": "5HaLHZtWtvkR"
      },
      "source": [
        "# Load SentEval repository"
      ]
    },
    {
      "cell_type": "code",
      "metadata": {
        "id": "UMIGBRjZtz3x"
      },
      "source": [
        "# Clone the repository and all the dependencies\n",
        "!git clone https://github.com/Huertas97/SentEval.git\n",
        "\n",
        "# Download the data\n",
        "%cd /content/SentEval/data/downstream\n",
        "!bash ./get_transfer_data.bash"
      ],
      "execution_count": null,
      "outputs": []
    },
    {
      "cell_type": "markdown",
      "metadata": {
        "id": "319IbumH_H4j"
      },
      "source": [
        "# Each model separately with PCA"
      ]
    },
    {
      "cell_type": "markdown",
      "metadata": {
        "id": "cVk5u3JtrOxP"
      },
      "source": [
        "## distiluse-base-multilingual-cased"
      ]
    },
    {
      "cell_type": "code",
      "metadata": {
        "id": "JX47Aykr002D"
      },
      "source": [
        "%cd\n",
        "%cd /content/SentEval/examples\n",
        "!python ensemble_dim_reduc.py --data df_multi_selected_99.pkl --models distiluse-base-multilingual-cased --output distiluse-base-multilingual-cased_pca"
      ],
      "execution_count": null,
      "outputs": []
    },
    {
      "cell_type": "markdown",
      "metadata": {
        "id": "vd9ouTHiz8Qr"
      },
      "source": [
        "## xlm-r-distilroberta-base-paraphrase-v1"
      ]
    },
    {
      "cell_type": "code",
      "metadata": {
        "id": "dD_y8IEK2bMz"
      },
      "source": [
        "%cd\n",
        "%cd /content/SentEval/examples\n",
        "!python ensemble_dim_reduc.py --data df_multi_selected_99.pkl --models xlm-r-distilroberta-base-paraphrase-v1 --output xlm-r-distilroberta-base-paraphrase-v1_pca"
      ],
      "execution_count": null,
      "outputs": []
    },
    {
      "cell_type": "markdown",
      "metadata": {
        "id": "HKZQo33W0DjF"
      },
      "source": [
        "## xlm-r-bert-base-nli-stsb-mean-tokens"
      ]
    },
    {
      "cell_type": "code",
      "metadata": {
        "id": "BbwR0USY2b8v"
      },
      "source": [
        "%cd\n",
        "%cd /content/SentEval/examples\n",
        "!python ensemble_dim_reduc.py --data df_multi_selected_99.pkl --models xlm-r-bert-base-nli-stsb-mean-tokens --output xlm-r-bert-base-nli-stsb-mean-tokens_pca"
      ],
      "execution_count": null,
      "outputs": []
    },
    {
      "cell_type": "markdown",
      "metadata": {
        "id": "OipFuOND0KU2"
      },
      "source": [
        "## LaBSE"
      ]
    },
    {
      "cell_type": "code",
      "metadata": {
        "id": "06j6sWoX2dH3"
      },
      "source": [
        "%cd\n",
        "%cd /content/SentEval/examples\n",
        "!python ensemble_dim_reduc.py --data df_multi_selected_99.pkl --models LaBSE --output LaBSE_pca"
      ],
      "execution_count": null,
      "outputs": []
    },
    {
      "cell_type": "markdown",
      "metadata": {
        "id": "99c_Ur8B0TAf"
      },
      "source": [
        "## distilbert-multilingual-nli-stsb-quora-ranking"
      ]
    },
    {
      "cell_type": "code",
      "metadata": {
        "id": "s_QjzsWT2d3F"
      },
      "source": [
        "%cd\n",
        "%cd /content/SentEval/examples\n",
        "!python ensemble_dim_reduc.py --data df_multi_selected_99.pkl --models distilbert-multilingual-nli-stsb-quora-ranking --output distilbert-multilingual-nli-stsb-quora-ranking_pca"
      ],
      "execution_count": null,
      "outputs": []
    },
    {
      "cell_type": "markdown",
      "metadata": {
        "id": "2GDxuoWXyhKV"
      },
      "source": [
        "# Ensemble with best ratio result/dimensions"
      ]
    },
    {
      "cell_type": "code",
      "metadata": {
        "id": "NeV047WnxR0r"
      },
      "source": [
        "%cd\n",
        "%cd /content/SentEval/examples\n",
        "\n",
        "!python ensemble_dim_reduc.py --data df_multi_selected_99.pkl --models xlm-r-bert-base-nli-stsb-mean-tokens,xlm-r-distilroberta-base-paraphrase-v1"
      ],
      "execution_count": null,
      "outputs": []
    },
    {
      "cell_type": "markdown",
      "metadata": {
        "id": "n0m40L84iLMR"
      },
      "source": [
        "# 5 modelos"
      ]
    },
    {
      "cell_type": "code",
      "metadata": {
        "id": "1NR0jnSUzla-"
      },
      "source": [
        "%cd\n",
        "%cd /content/SentEval/examples\n",
        "!python ensemble_dim_reduc.py --data df_multi_selected_99.pkl --models distiluse-base-multilingual-cased,xlm-r-distilroberta-base-paraphrase-v1,xlm-r-bert-base-nli-stsb-mean-tokens,LaBSE,distilbert-multilingual-nli-stsb-quora-ranking --output all"
      ],
      "execution_count": null,
      "outputs": []
    },
    {
      "cell_type": "markdown",
      "metadata": {
        "id": "fW-SAzUzlOji"
      },
      "source": [
        "# Result visualization\n"
      ]
    },
    {
      "cell_type": "code",
      "metadata": {
        "id": "uZKmMTe7fk42"
      },
      "source": [
        "import pickle\n",
        "pickle.load( open( \"/content/SentEval/result/distiluse-base-multilingual-cased_pca.pkl\", \"rb\" ) )"
      ],
      "execution_count": null,
      "outputs": []
    }
  ]
}